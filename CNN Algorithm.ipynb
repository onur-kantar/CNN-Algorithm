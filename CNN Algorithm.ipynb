{
 "cells": [
  {
   "cell_type": "code",
   "execution_count": 1,
   "metadata": {},
   "outputs": [
    {
     "name": "stderr",
     "output_type": "stream",
     "text": [
      "Using TensorFlow backend.\n"
     ]
    }
   ],
   "source": [
    "'''\n",
    "Onur Kantar - Ömer Resul Ertan\n",
    "Veriseti: MNIST (http://yann.lecun.com/exdb/mnist/  -  https://keras.io/api/datasets/mnist)\n",
    "Algoritma: Evrişimli Sinir Ağları (Convolutional Neural Networks)\n",
    "Ağ Mimarisi:\n",
    "- 32 x 3 x 3 CONV\n",
    "- 64 x 3 x 4 CONV\n",
    "- 2 x 2 MAX POOL\n",
    "- DROPOUT (%25)\n",
    "- 128 FC\n",
    "- DROPOUT (%50)\n",
    "- 10 FC\n",
    "12 epoch sonunda 99.25% test doğruluk oranı elde ediliyor.\n",
    "'''\n",
    "\n",
    "from __future__ import print_function\n",
    "import keras\n",
    "from keras.datasets import mnist\n",
    "from keras.models import Sequential\n",
    "from keras.layers import Dense, Dropout, Flatten, BatchNormalization\n",
    "from keras.layers import Conv2D, MaxPooling2D\n",
    "from keras import backend as K\n",
    "import seaborn as sns\n",
    "import matplotlib.pyplot as plt"
   ]
  },
  {
   "cell_type": "code",
   "execution_count": 2,
   "metadata": {},
   "outputs": [],
   "source": [
    "# İleride kullanılacak olan değerlerin kolay değiştirilebilmesi için\n",
    "# değişkenler bir yerde toplanıp önceden değerleri atanıyor.\n",
    "batch_size = 128 # her bir iterasyonda \"128\" resim alınsın\n",
    "num_classes = 10 # ayırt etmek istediğimiz \"10\" rakam\n",
    "epochs = 12 # eğitim 12 epoch sürsün\n",
    "img_rows, img_cols = 28, 28 # giriş resimlerinin boyutları 28 x 28 piksel"
   ]
  },
  {
   "cell_type": "code",
   "execution_count": 3,
   "metadata": {},
   "outputs": [],
   "source": [
    "# MNIST veriseti yükleniyor.\n",
    "(x_train, y_train), (x_test, y_test) = mnist.load_data()"
   ]
  },
  {
   "cell_type": "markdown",
   "metadata": {},
   "source": [
    "# Verisetimizi tanıyalım : "
   ]
  },
  {
   "cell_type": "code",
   "execution_count": 4,
   "metadata": {},
   "outputs": [
    {
     "data": {
      "text/plain": [
       "<matplotlib.axes._subplots.AxesSubplot at 0x14676e0dc48>"
      ]
     },
     "execution_count": 4,
     "metadata": {},
     "output_type": "execute_result"
    },
    {
     "data": {
      "image/png": "[encoded data removed]",
      "text/plain": [
       "<Figure size 432x288 with 1 Axes>"
      ]
     },
     "metadata": {
      "needs_background": "light"
     },
     "output_type": "display_data"
    }
   ],
   "source": [
    "# Hangi rakamda kaç adet örneğimiz olduğunu grafikle gösterelim.\n",
    "sns.countplot(y_train)"
   ]
  },
  {
   "cell_type": "code",
   "execution_count": 5,
   "metadata": {},
   "outputs": [
    {
     "data": {
      "image/png": "[encoded data removed]",
      "text/plain": [
       "<Figure size 432x288 with 4 Axes>"
      ]
     },
     "metadata": {
      "needs_background": "light"
     },
     "output_type": "display_data"
    }
   ],
   "source": [
    "# El ile çizilmiş sayı verilerimizden 4 adet örnek gösterelim.\n",
    "fig, axs = plt.subplots(1,4)\n",
    "\n",
    "axs[0].imshow(x_train[0][:,:], cmap='gray')\n",
    "axs[0].set_title(\"Değer : \"+str(y_train[0]))\n",
    "\n",
    "axs[1].imshow(x_train[1][:,:], cmap='gray')\n",
    "axs[1].set_title(\"Değer : \"+str(y_train[1]))\n",
    "\n",
    "axs[2].imshow(x_train[2][:,:], cmap='gray')\n",
    "axs[2].set_title(\"Değer : \"+str(y_train[2]))\n",
    "\n",
    "axs[3].imshow(x_train[3][:,:], cmap='gray')\n",
    "axs[3].set_title(\"Değer : \"+str(y_train[3]))\n",
    "\n",
    "# Karışıklığa sebep olan gereksiz labelleri kaldırmak için ufak bir döngü.\n",
    "for ax in axs.flat:\n",
    "    ax.label_outer()\n",
    "\n",
    "plt.show()"
   ]
  },
  {
   "cell_type": "code",
   "execution_count": 6,
   "metadata": {},
   "outputs": [],
   "source": [
    "# X değerlerimizin şekline derinlik özelliği ekleyelim."
   ]
  },
  {
   "cell_type": "code",
   "execution_count": 7,
   "metadata": {},
   "outputs": [
    {
     "name": "stdout",
     "output_type": "stream",
     "text": [
      "(60000, 28, 28)\n",
      "(10000, 28, 28)\n"
     ]
    }
   ],
   "source": [
    "print(x_train.shape)\n",
    "print(x_test.shape)"
   ]
  },
  {
   "cell_type": "code",
   "execution_count": 8,
   "metadata": {},
   "outputs": [],
   "source": [
    "#değişkenlerimizin boyutlarını düzenliyoruz.\n",
    "x_train = x_train.reshape(x_train.shape[0], img_rows, img_cols, 1)\n",
    "x_test = x_test.reshape(x_test.shape[0], img_rows, img_cols, 1)\n",
    "input_shape = (img_rows, img_cols, 1)"
   ]
  },
  {
   "cell_type": "code",
   "execution_count": 9,
   "metadata": {},
   "outputs": [
    {
     "name": "stdout",
     "output_type": "stream",
     "text": [
      "(60000, 28, 28, 1)\n",
      "(10000, 28, 28, 1)\n"
     ]
    }
   ],
   "source": [
    "print(x_train.shape)\n",
    "print(x_test.shape)"
   ]
  },
  {
   "cell_type": "code",
   "execution_count": 10,
   "metadata": {},
   "outputs": [],
   "source": [
    "# Aydınlatma farklılıklarının etkisini azaltmak için bir normalleştirme gerçekleştiriyoruz.\n",
    "# Ayrıca CNN [0..1] verisine [0..255] 'den daha hızlı yakınsar."
   ]
  },
  {
   "cell_type": "code",
   "execution_count": 11,
   "metadata": {
    "scrolled": false
   },
   "outputs": [
    {
     "data": {
      "text/plain": [
       "array([[  0],\n",
       "       [  0],\n",
       "       [  0],\n",
       "       [  0],\n",
       "       [  0],\n",
       "       [  0],\n",
       "       [  0],\n",
       "       [  0],\n",
       "       [ 30],\n",
       "       [ 36],\n",
       "       [ 94],\n",
       "       [154],\n",
       "       [170],\n",
       "       [253],\n",
       "       [253],\n",
       "       [253],\n",
       "       [253],\n",
       "       [253],\n",
       "       [225],\n",
       "       [172],\n",
       "       [253],\n",
       "       [242],\n",
       "       [195],\n",
       "       [ 64],\n",
       "       [  0],\n",
       "       [  0],\n",
       "       [  0],\n",
       "       [  0]], dtype=uint8)"
      ]
     },
     "execution_count": 11,
     "metadata": {},
     "output_type": "execute_result"
    }
   ],
   "source": [
    "x_train[0][6,:]"
   ]
  },
  {
   "cell_type": "code",
   "execution_count": 12,
   "metadata": {},
   "outputs": [],
   "source": [
    "#int'den float'a çeviriyoruz çünkü float sonuç elde edicez bir sonraki işlemde\n",
    "x_train = x_train.astype('float32')\n",
    "x_test = x_test.astype('float32')"
   ]
  },
  {
   "cell_type": "code",
   "execution_count": 13,
   "metadata": {},
   "outputs": [],
   "source": [
    "#piksellerin değerleri dataset içerisinde 0-255 arasında \n",
    "#0 = beyaz\n",
    "#255 - siyah\n",
    "# bunları 0-1 arasında değerler yapabilmek için 255 e bölüyoruz\n",
    "# Pixel values are 0 to 255. 0 means background (white), 255 means foreground (black).\n",
    "x_train /= 255\n",
    "x_test /= 255"
   ]
  },
  {
   "cell_type": "code",
   "execution_count": 14,
   "metadata": {
    "scrolled": false
   },
   "outputs": [
    {
     "data": {
      "text/plain": [
       "array([[0.        ],\n",
       "       [0.        ],\n",
       "       [0.        ],\n",
       "       [0.        ],\n",
       "       [0.        ],\n",
       "       [0.        ],\n",
       "       [0.        ],\n",
       "       [0.        ],\n",
       "       [0.11764706],\n",
       "       [0.14117648],\n",
       "       [0.36862746],\n",
       "       [0.6039216 ],\n",
       "       [0.6666667 ],\n",
       "       [0.99215686],\n",
       "       [0.99215686],\n",
       "       [0.99215686],\n",
       "       [0.99215686],\n",
       "       [0.99215686],\n",
       "       [0.88235295],\n",
       "       [0.6745098 ],\n",
       "       [0.99215686],\n",
       "       [0.9490196 ],\n",
       "       [0.7647059 ],\n",
       "       [0.2509804 ],\n",
       "       [0.        ],\n",
       "       [0.        ],\n",
       "       [0.        ],\n",
       "       [0.        ]], dtype=float32)"
      ]
     },
     "execution_count": 14,
     "metadata": {},
     "output_type": "execute_result"
    }
   ],
   "source": [
    "x_train[0][6,:]"
   ]
  },
  {
   "cell_type": "markdown",
   "metadata": {},
   "source": [
    "# Etiketleri One Hot Vektörlere Çevirmemiz Gerekiyor :"
   ]
  },
  {
   "cell_type": "code",
   "execution_count": 15,
   "metadata": {},
   "outputs": [
    {
     "name": "stdout",
     "output_type": "stream",
     "text": [
      "5\n",
      "0\n",
      "4\n",
      "1\n"
     ]
    }
   ],
   "source": [
    "print(y_train[0])\n",
    "print(y_train[1])\n",
    "print(y_train[2])\n",
    "print(y_train[3])"
   ]
  },
  {
   "cell_type": "code",
   "execution_count": 16,
   "metadata": {},
   "outputs": [],
   "source": [
    "# Etiketler 0 ila 9 arasındaki 10 adet rakamlardan oluşur.\n",
    "# Bu etiketlere \"to_catogorical\" fonksiyonu ile one-hot-encoding yapıyoruz\n",
    "y_train = keras.utils.to_categorical(y_train, num_classes)\n",
    "y_test = keras.utils.to_categorical(y_test, num_classes)"
   ]
  },
  {
   "cell_type": "code",
   "execution_count": 17,
   "metadata": {},
   "outputs": [
    {
     "name": "stdout",
     "output_type": "stream",
     "text": [
      "[0. 0. 0. 0. 0. 1. 0. 0. 0. 0.]\n",
      "[1. 0. 0. 0. 0. 0. 0. 0. 0. 0.]\n",
      "[0. 0. 0. 0. 1. 0. 0. 0. 0. 0.]\n",
      "[0. 1. 0. 0. 0. 0. 0. 0. 0. 0.]\n"
     ]
    }
   ],
   "source": [
    "print(y_train[0])\n",
    "print(y_train[1])\n",
    "print(y_train[2])\n",
    "print(y_train[3])"
   ]
  },
  {
   "cell_type": "markdown",
   "metadata": {},
   "source": [
    "# Katmanları Oluşturup Eğitime Başlayalım :"
   ]
  },
  {
   "cell_type": "code",
   "execution_count": 18,
   "metadata": {},
   "outputs": [
    {
     "name": "stdout",
     "output_type": "stream",
     "text": [
      "Train on 60000 samples, validate on 10000 samples\n",
      "Epoch 1/12\n",
      "60000/60000 [==============================] - 57s 958us/step - loss: 0.2599 - accuracy: 0.9190 - val_loss: 0.0509 - val_accuracy: 0.9842\n",
      "Epoch 2/12\n",
      "60000/60000 [==============================] - 57s 944us/step - loss: 0.0832 - accuracy: 0.9754 - val_loss: 0.0386 - val_accuracy: 0.9869\n",
      "Epoch 3/12\n",
      "60000/60000 [==============================] - 57s 943us/step - loss: 0.0664 - accuracy: 0.9807 - val_loss: 0.0296 - val_accuracy: 0.9908\n",
      "Epoch 4/12\n",
      "60000/60000 [==============================] - 55s 920us/step - loss: 0.0509 - accuracy: 0.9849 - val_loss: 0.0312 - val_accuracy: 0.9890\n",
      "Epoch 5/12\n",
      "60000/60000 [==============================] - 56s 939us/step - loss: 0.0465 - accuracy: 0.9857 - val_loss: 0.0265 - val_accuracy: 0.9906\n",
      "Epoch 6/12\n",
      "60000/60000 [==============================] - 58s 966us/step - loss: 0.0406 - accuracy: 0.9872 - val_loss: 0.0273 - val_accuracy: 0.9912\n",
      "Epoch 7/12\n",
      "60000/60000 [==============================] - 58s 967us/step - loss: 0.0365 - accuracy: 0.9889 - val_loss: 0.0271 - val_accuracy: 0.9916\n",
      "Epoch 8/12\n",
      "60000/60000 [==============================] - 57s 951us/step - loss: 0.0338 - accuracy: 0.9897 - val_loss: 0.0261 - val_accuracy: 0.9916\n",
      "Epoch 9/12\n",
      "60000/60000 [==============================] - 58s 966us/step - loss: 0.0317 - accuracy: 0.9901 - val_loss: 0.0260 - val_accuracy: 0.9919\n",
      "Epoch 10/12\n",
      "60000/60000 [==============================] - 57s 952us/step - loss: 0.0282 - accuracy: 0.9910 - val_loss: 0.0283 - val_accuracy: 0.9909\n",
      "Epoch 11/12\n",
      "60000/60000 [==============================] - 57s 943us/step - loss: 0.0272 - accuracy: 0.9911 - val_loss: 0.0260 - val_accuracy: 0.9919\n",
      "Epoch 12/12\n",
      "60000/60000 [==============================] - 57s 942us/step - loss: 0.0250 - accuracy: 0.9923 - val_loss: 0.0279 - val_accuracy: 0.9913\n",
      "Test loss: 0.02788960544702677\n",
      "Test accuracy: 0.9912999868392944\n"
     ]
    }
   ],
   "source": [
    "# Sequential model objesi yaratalım\n",
    "model = Sequential()\n",
    "\n",
    "# 3x3 boyutunda 32 adet filtreden oluşan ReLU aktivasyonlu CONV katmanı ekleyelim. \n",
    "model.add(Conv2D(32, kernel_size=(3, 3),\n",
    "                 activation='relu',\n",
    "                 input_shape=input_shape))\n",
    "\n",
    "# 3x3 boyutunda 64 adet filtreden oluşan ReLU aktivasyonlu CONV katmanı ekleyelim. \n",
    "model.add(Conv2D(64, (3, 3), activation='relu'))\n",
    "\n",
    "# 2x2 boyutlu çerçeveden oluşan MAXPOOL katmanı ekleyelim.\n",
    "# Resim matrisimizi küçültüyoruz. İşlem gücünü azaltıyoruz \n",
    "model.add(MaxPooling2D(pool_size=(2, 2)))\n",
    "\n",
    "# her seferinde nöronların %25'i atılsın (drop)\n",
    "# Overfitting olmasını engellemek için kullanılır\n",
    "model.add(Dropout(0.25))\n",
    "\n",
    "# Tam bağlantılı (fully connected) katmanına geçiş olacağı için düzleştirme yapalım \n",
    "model.add(Flatten())\n",
    "\n",
    "# 128 nörondan oluşan ReLU aktivasyonu FC katmanı ekleyelim \n",
    "model.add(Dense(128, activation='relu'))\n",
    "\n",
    "# Her seferinde %50'sini atalım (drop)\n",
    "# Overfitting olmasını engellemek için kullanılır\n",
    "model.add(Dropout(0.5))\n",
    "\n",
    "# Çıkış katmanına sınıf sayısı kadar (10) Softmax aktivasyonlu nöron ekleyelim\n",
    "model.add(Dense(num_classes, activation='softmax'))\n",
    "\n",
    "# Adadelta optimizasyon yöntemini ve cross entropy yitim (loss) fonksiyonunu kullanalım.\n",
    "model.compile(loss=keras.losses.categorical_crossentropy,\n",
    "              optimizer=keras.optimizers.Adadelta(),\n",
    "              metrics=['accuracy'])\n",
    "\n",
    "# eğitim işlemini gerçekleştirelim\n",
    "history = model.fit(x_train, y_train,\n",
    "          batch_size=batch_size,\n",
    "          epochs=epochs,\n",
    "          verbose=1,\n",
    "          validation_data=(x_test, y_test))\n",
    "\n",
    "# test işlemini gerçekleştirelim ve sonuçları ekrana yazdıralım\n",
    "score = model.evaluate(x_test, y_test, verbose=0)\n",
    "print('Test loss:', score[0])\n",
    "print('Test accuracy:', score[1])"
   ]
  },
  {
   "cell_type": "markdown",
   "metadata": {},
   "source": [
    "# Sonuçları Değerlendirelim : "
   ]
  },
  {
   "cell_type": "code",
   "execution_count": 19,
   "metadata": {},
   "outputs": [
    {
     "data": {
      "image/png": "[encoded data removed]",
      "text/plain": [
       "<Figure size 432x288 with 2 Axes>"
      ]
     },
     "metadata": {
      "needs_background": "light"
     },
     "output_type": "display_data"
    }
   ],
   "source": [
    "# Eğitimde gerçekleşen loss ve accuracy değerlerini çizdirelim\n",
    "fig, ax = plt.subplots(2,1)\n",
    "ax[0].plot(history.history['loss'], color='b', label=\"Training loss\")\n",
    "ax[0].plot(history.history['val_loss'], color='r', label=\"Validation loss\",axes =ax[0])\n",
    "ax[0].set_ylabel(\"Loss\")\n",
    "legend = ax[0].legend(loc='best', shadow=True)\n",
    "\n",
    "ax[1].plot(history.history['accuracy'], color='b', label=\"Training accuracy\")\n",
    "ax[1].plot(history.history['val_accuracy'], color='r',label=\"Validation accuracy\")\n",
    "ax[1].set_xlabel(\"Number of Epochs\")\n",
    "ax[1].set_ylabel(\"accuracy\")\n",
    "legend = ax[1].legend(loc='best', shadow=True)"
   ]
  },
  {
   "cell_type": "code",
   "execution_count": 20,
   "metadata": {},
   "outputs": [
    {
     "data": {
      "image/png": "[encoded data removed]",
      "text/plain": [
       "<Figure size 432x288 with 2 Axes>"
      ]
     },
     "metadata": {
      "needs_background": "light"
     },
     "output_type": "display_data"
    }
   ],
   "source": [
    "# Confusion matrix oluşturalım. \n",
    "import numpy as np\n",
    "from sklearn.metrics import confusion_matrix\n",
    "import itertools\n",
    "\n",
    "def plot_confusion_matrix(cm, classes,\n",
    "                          normalize=False,\n",
    "                          title='Confusion matrix',\n",
    "                          cmap=plt.cm.Blues):\n",
    "    \n",
    "    plt.imshow(cm, interpolation='nearest', cmap=cmap)\n",
    "    plt.title(title)\n",
    "    plt.colorbar()\n",
    "    tick_marks = np.arange(len(classes))\n",
    "    plt.xticks(tick_marks, classes, rotation=45)\n",
    "    plt.yticks(tick_marks, classes)\n",
    "\n",
    "    if normalize:\n",
    "        cm = cm.astype('float') / cm.sum(axis=1)[:, np.newaxis]\n",
    "\n",
    "    thresh = cm.max() / 2.\n",
    "    for i, j in itertools.product(range(cm.shape[0]), range(cm.shape[1])):\n",
    "        plt.text(j, i, cm[i, j],\n",
    "                 horizontalalignment=\"center\",\n",
    "                 color=\"white\" if cm[i, j] > thresh else \"black\")\n",
    "\n",
    "    plt.tight_layout()\n",
    "    plt.ylabel('True label')\n",
    "    plt.xlabel('Predicted label')\n",
    "\n",
    "# x_test'in tahmin sonuçlarını alalım\n",
    "y_pred = model.predict(x_test)\n",
    "# y_pred'i one hot vektörüne çevirelim \n",
    "y_pred_classes = np.argmax(y_pred,axis = 1) \n",
    "# Doğru sonuçlar olan y_test'i de one hot vektörüne çevirelim\n",
    "y_true = np.argmax(y_test,axis = 1) \n",
    "# confusion matrix oluşturalım \n",
    "confusion_mtx = confusion_matrix(y_true, y_pred_classes) \n",
    "# confusion matrix çizdirelim\n",
    "plot_confusion_matrix(confusion_mtx, classes = range(10)) "
   ]
  },
  {
   "cell_type": "code",
   "execution_count": 21,
   "metadata": {},
   "outputs": [
    {
     "data": {
      "image/png": "[encoded data removed]",
      "text/plain": [
       "<Figure size 432x288 with 3 Axes>"
      ]
     },
     "metadata": {
      "needs_background": "light"
     },
     "output_type": "display_data"
    }
   ],
   "source": [
    "# Bazı hataları gösterelim :  \n",
    "\n",
    "# Hatalar, tahmin edilen etiketler ile gerçek etiketler arasındaki farktır\n",
    "errors = (y_pred_classes - y_true != 0)\n",
    "\n",
    "y_pred_classes_errors = y_pred_classes[errors]\n",
    "y_pred_errors = y_pred[errors]\n",
    "y_true_errors = y_true[errors]\n",
    "x_test_errors = x_test[errors]\n",
    "\n",
    "def display_errors(errors_index,img_errors,pred_errors, obs_errors):\n",
    "    \"\"\"Bu işlem tahmin edilen ve doğru etikeri olan 3 resmi gösterir\"\"\"\n",
    "    n = 0\n",
    "    nrows = 1\n",
    "    ncols = 3\n",
    "    fig, ax = plt.subplots(nrows,ncols,sharex=True,sharey=True)\n",
    "    for row in range(nrows):\n",
    "        for col in range(ncols):\n",
    "            error = errors_index[n]\n",
    "            ax[col].imshow((img_errors[error]).reshape((28,28)))\n",
    "            ax[col].set_title(\"Predicted label :{}\\nTrue label :{}\".format(pred_errors[error],obs_errors[error]))\n",
    "            n += 1\n",
    "\n",
    "# Yanlış öngörülen sayıların olasılıkları\n",
    "y_pred_errors_prob = np.max(y_pred_errors,axis = 1)\n",
    "\n",
    "# Hata setindeki gerçek değerlerin tahmini olasılıkları\n",
    "true_prob_errors = np.diagonal(np.take(y_pred_errors, y_true_errors, axis=1))\n",
    "\n",
    "# Öngörülen etiketin olasılığı ile gerçek etiket arasındaki fark\n",
    "delta_pred_true_errors = y_pred_errors_prob - true_prob_errors\n",
    "\n",
    "# Delta prob hatalarının sıralı listesi\n",
    "sorted_dela_errors = np.argsort(delta_pred_true_errors)\n",
    "\n",
    "# ilk 3 hata  \n",
    "most_important_errors = sorted_dela_errors[-3:]\n",
    "\n",
    "# ilk 3 hatayı göster\n",
    "display_errors(most_important_errors, x_test_errors, y_pred_classes_errors, y_true_errors)"
   ]
  },
  {
   "cell_type": "code",
   "execution_count": null,
   "metadata": {},
   "outputs": [],
   "source": []
  }
 ],
 "metadata": {
  "kernelspec": {
   "display_name": "Python 3",
   "language": "python",
   "name": "python3"
  },
  "language_info": {
   "codemirror_mode": {
    "name": "ipython",
    "version": 3
   },
   "file_extension": ".py",
   "mimetype": "text/x-python",
   "name": "python",
   "nbconvert_exporter": "python",
   "pygments_lexer": "ipython3",
   "version": "3.7.6"
  }
 },
 "nbformat": 4,
 "nbformat_minor": 4
}
